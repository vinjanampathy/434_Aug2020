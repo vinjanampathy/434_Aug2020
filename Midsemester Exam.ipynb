{
 "cells": [
  {
   "cell_type": "markdown",
   "metadata": {},
   "source": [
    "# There are three problems in this problem set. Please download them, work them out and submit them by Thursday 15th October 2020, 12:00 NOON on moodle. \n",
    "\n",
    "# This is a SHARP deadline since the time required to solve the problems is not more than an hour and you are given almost a day and a half. \n",
    "\n",
    "# Do not consult with anyone. Solve these problems by yourself."
   ]
  },
  {
   "cell_type": "markdown",
   "metadata": {},
   "source": [
    "# <font color='red'>Problem 1 <font>: Zassenhaus Formula:\n",
    "\n",
    "## Consider the Zassenhaus formula that is a successive approximation to the matrix exponent of $t(A+B)$. It is given by \n",
    "\n",
    "# $e^{t(A+B)}=e^{tA}e^{tB}e^{-\\frac{t^2}{2}[A,B]}\\ldots$ to second order. Write a program that verifies the Zassenhaus formula. Your TAs should be able to input two matrices $A$ and $B$ into the program with a number $t$ and see the LHS and RHS \n"
   ]
  },
  {
   "cell_type": "code",
   "execution_count": 2,
   "metadata": {},
   "outputs": [],
   "source": [
    "import numpy as np\n",
    "from matplotlib import pyplot as plt\n",
    "from scipy.linalg import expm, sinm, cosm"
   ]
  },
  {
   "cell_type": "code",
   "execution_count": 3,
   "metadata": {},
   "outputs": [],
   "source": [
    "def Zassenhaus_Check(A,B,t):\n",
    "    LHS=expm(A*t+B*t)\n",
    "    RHS=expm(A*t)@expm(B*t)@expm(-(t**2)*(A@B-B@A)/2)\n",
    "    return LHS,RHS                             "
   ]
  },
  {
   "cell_type": "code",
   "execution_count": 4,
   "metadata": {},
   "outputs": [],
   "source": [
    "A=np.array([[1,0],[0,-1]])\n",
    "B=np.array([[0,1],[1,0]])\n",
    "t=1e-2\n",
    "L,R=Zassenhaus_Check(A,B,t)"
   ]
  },
  {
   "cell_type": "code",
   "execution_count": 5,
   "metadata": {},
   "outputs": [
    {
     "data": {
      "text/plain": [
       "array([[1.01010034, 0.01000033],\n",
       "       [0.01000033, 0.99009967]])"
      ]
     },
     "execution_count": 5,
     "metadata": {},
     "output_type": "execute_result"
    }
   ],
   "source": [
    "L"
   ]
  },
  {
   "cell_type": "code",
   "execution_count": 6,
   "metadata": {},
   "outputs": [
    {
     "data": {
      "text/plain": [
       "array([[1.01010168, 0.00999966],\n",
       "       [0.00999967, 0.99009834]])"
      ]
     },
     "execution_count": 6,
     "metadata": {},
     "output_type": "execute_result"
    }
   ],
   "source": [
    "R"
   ]
  },
  {
   "cell_type": "markdown",
   "metadata": {},
   "source": [
    "# <font color='red'>Problem 2: <font> Differential equation: Exact vs. Approximate\n",
    "    \n",
    "## Consider the differential equation $\\frac{dz}{dt}=zt^2-z$. It has the exact solution $z(t)=e^{\\frac{t^3}{3}-t}$. Write a code to implement Eulers method and verify it by plotting the exact vs analytical result. Your TAs should be able to change the timestep $h$ and verify that the numerical and analytical solutions get close as $h$ gets smaller."
   ]
  },
  {
   "cell_type": "code",
   "execution_count": 7,
   "metadata": {},
   "outputs": [],
   "source": [
    "def z(t):\n",
    "    return np.exp((t**3)/3-t)"
   ]
  },
  {
   "cell_type": "code",
   "execution_count": 8,
   "metadata": {},
   "outputs": [],
   "source": [
    "t=np.linspace(0,2,1000)"
   ]
  },
  {
   "cell_type": "code",
   "execution_count": 9,
   "metadata": {
    "scrolled": true
   },
   "outputs": [
    {
     "data": {
      "text/plain": [
       "[<matplotlib.lines.Line2D at 0x7fc81c7c9f40>]"
      ]
     },
     "execution_count": 9,
     "metadata": {},
     "output_type": "execute_result"
    },
    {
     "data": {
      "image/png": "[encoded data removed]",
      "text/plain": [
       "<Figure size 432x288 with 1 Axes>"
      ]
     },
     "metadata": {
      "needs_background": "light"
     },
     "output_type": "display_data"
    }
   ],
   "source": [
    "plt.plot(t,z(t),'b.-')"
   ]
  },
  {
   "cell_type": "code",
   "execution_count": 10,
   "metadata": {},
   "outputs": [],
   "source": [
    "def dz(τ):\n",
    "    return ((τ**2)-1)*z(τ)"
   ]
  },
  {
   "cell_type": "code",
   "execution_count": 11,
   "metadata": {},
   "outputs": [
    {
     "data": {
      "text/plain": [
       "-1.0"
      ]
     },
     "execution_count": 11,
     "metadata": {},
     "output_type": "execute_result"
    }
   ],
   "source": [
    "dz(0)"
   ]
  },
  {
   "cell_type": "code",
   "execution_count": 12,
   "metadata": {},
   "outputs": [],
   "source": [
    "t=np.linspace(0,2,100) # h is (2-0)/5 in this example."
   ]
  },
  {
   "cell_type": "code",
   "execution_count": 13,
   "metadata": {
    "scrolled": false
   },
   "outputs": [],
   "source": [
    "za=np.zeros(len(t))\n",
    "za[0]=1 # get this from the exact formula which I gave you for the initial time of your choosing.\n",
    "\n",
    "for i in range(1,len(t)):\n",
    "    time = t[i]\n",
    "    za[i]=za[i-1]+dz(time)*(t[1]-t[0])"
   ]
  },
  {
   "cell_type": "code",
   "execution_count": 14,
   "metadata": {},
   "outputs": [
    {
     "data": {
      "text/plain": [
       "[<matplotlib.lines.Line2D at 0x7fc81c8d2100>,\n",
       " <matplotlib.lines.Line2D at 0x7fc81c8d2160>]"
      ]
     },
     "execution_count": 14,
     "metadata": {},
     "output_type": "execute_result"
    },
    {
     "data": {
      "image/png": "[encoded data removed]",
      "text/plain": [
       "<Figure size 432x288 with 1 Axes>"
      ]
     },
     "metadata": {
      "needs_background": "light"
     },
     "output_type": "display_data"
    }
   ],
   "source": [
    "plt.plot(t,z(t),'b',t,za,'r')"
   ]
  },
  {
   "cell_type": "markdown",
   "metadata": {},
   "source": [
    " # <font color='red'>Problem 3 <font> Primes and Evens..\n",
    "    \n",
    "## Construct a $12\\times 12$ matrix composed of numbers from 1 to 144, arranged row-wise. Now replace all prime numbers by the number +1, all even numbers by the number -1 and all other numbers by the number 0. Output this new matrix. [note: do not do this by literally calling every element...be more clever than that...]"
   ]
  },
  {
   "cell_type": "code",
   "execution_count": 15,
   "metadata": {},
   "outputs": [
    {
     "data": {
      "text/plain": [
       "array([  1,   2,   3,   4,   5,   6,   7,   8,   9,  10,  11,  12,  13,\n",
       "        14,  15,  16,  17,  18,  19,  20,  21,  22,  23,  24,  25,  26,\n",
       "        27,  28,  29,  30,  31,  32,  33,  34,  35,  36,  37,  38,  39,\n",
       "        40,  41,  42,  43,  44,  45,  46,  47,  48,  49,  50,  51,  52,\n",
       "        53,  54,  55,  56,  57,  58,  59,  60,  61,  62,  63,  64,  65,\n",
       "        66,  67,  68,  69,  70,  71,  72,  73,  74,  75,  76,  77,  78,\n",
       "        79,  80,  81,  82,  83,  84,  85,  86,  87,  88,  89,  90,  91,\n",
       "        92,  93,  94,  95,  96,  97,  98,  99, 100, 101, 102, 103, 104,\n",
       "       105, 106, 107, 108, 109, 110, 111, 112, 113, 114, 115, 116, 117,\n",
       "       118, 119, 120, 121, 122, 123, 124, 125, 126, 127, 128, 129, 130,\n",
       "       131, 132, 133, 134, 135, 136, 137, 138, 139, 140, 141, 142, 143,\n",
       "       144])"
      ]
     },
     "execution_count": 15,
     "metadata": {},
     "output_type": "execute_result"
    }
   ],
   "source": [
    "Matrx=np.arange(1,145)\n",
    "Matrx"
   ]
  },
  {
   "cell_type": "code",
   "execution_count": 16,
   "metadata": {},
   "outputs": [],
   "source": [
    "def prime_check(n):\n",
    "    if n==1:\n",
    "        return 0\n",
    "    if n==2:\n",
    "        return 1\n",
    "    for i in range(2,n):\n",
    "        if n%i == 0:\n",
    "            return 0 \n",
    "    return 1"
   ]
  },
  {
   "cell_type": "code",
   "execution_count": 17,
   "metadata": {},
   "outputs": [
    {
     "data": {
      "text/plain": [
       "array([  1,   2,   3,   4,   5,   6,   7,   8,   9,  10,  11,  12,  13,\n",
       "        14,  15,  16,  17,  18,  19,  20,  21,  22,  23,  24,  25,  26,\n",
       "        27,  28,  29,  30,  31,  32,  33,  34,  35,  36,  37,  38,  39,\n",
       "        40,  41,  42,  43,  44,  45,  46,  47,  48,  49,  50,  51,  52,\n",
       "        53,  54,  55,  56,  57,  58,  59,  60,  61,  62,  63,  64,  65,\n",
       "        66,  67,  68,  69,  70,  71,  72,  73,  74,  75,  76,  77,  78,\n",
       "        79,  80,  81,  82,  83,  84,  85,  86,  87,  88,  89,  90,  91,\n",
       "        92,  93,  94,  95,  96,  97,  98,  99, 100, 101, 102, 103, 104,\n",
       "       105, 106, 107, 108, 109, 110, 111, 112, 113, 114, 115, 116, 117,\n",
       "       118, 119, 120, 121, 122, 123, 124, 125, 126, 127, 128, 129, 130,\n",
       "       131, 132, 133, 134, 135, 136, 137, 138, 139, 140, 141, 142, 143,\n",
       "       144])"
      ]
     },
     "execution_count": 17,
     "metadata": {},
     "output_type": "execute_result"
    }
   ],
   "source": [
    "Matrx"
   ]
  },
  {
   "cell_type": "code",
   "execution_count": 27,
   "metadata": {},
   "outputs": [
    {
     "name": "stdout",
     "output_type": "stream",
     "text": [
      "[  1   2   3   4   5   6   7   8   9  10  11  12  13  14  15  16  17  18\n",
      "  19  20  21  22  23  24  25  26  27  28  29  30  31  32  33  34  35  36\n",
      "  37  38  39  40  41  42  43  44  45  46  47  48  49  50  51  52  53  54\n",
      "  55  56  57  58  59  60  61  62  63  64  65  66  67  68  69  70  71  72\n",
      "  73  74  75  76  77  78  79  80  81  82  83  84  85  86  87  88  89  90\n",
      "  91  92  93  94  95  96  97  98  99 100 101 102 103 104 105 106 107 108\n",
      " 109 110 111 112 113 114 115 116 117 118 119 120 121 122 123 124 125 126\n",
      " 127 128 129 130 131 132 133 134 135 136 137 138 139 140 141 142 143 144]\n"
     ]
    },
    {
     "data": {
      "text/plain": [
       "array([[ 0, -1,  1, -1,  1, -1,  1, -1,  0, -1,  1, -1],\n",
       "       [ 1, -1,  0, -1,  1, -1,  1, -1,  0, -1,  1, -1],\n",
       "       [ 0, -1,  0, -1,  1, -1,  1, -1,  0, -1,  0, -1],\n",
       "       [ 1, -1,  0, -1,  1, -1,  1, -1,  0, -1,  1, -1],\n",
       "       [ 0, -1,  0, -1,  1, -1,  0, -1,  0, -1,  1, -1],\n",
       "       [ 1, -1,  0, -1,  0, -1,  1, -1,  0, -1,  1, -1],\n",
       "       [ 1, -1,  0, -1,  0, -1,  1, -1,  0, -1,  1, -1],\n",
       "       [ 0, -1,  0, -1,  1, -1,  0, -1,  0, -1,  0, -1],\n",
       "       [ 1, -1,  0, -1,  1, -1,  1, -1,  0, -1,  1, -1],\n",
       "       [ 1, -1,  0, -1,  1, -1,  0, -1,  0, -1,  0, -1],\n",
       "       [ 0, -1,  0, -1,  0, -1,  1, -1,  0, -1,  1, -1],\n",
       "       [ 0, -1,  0, -1,  1, -1,  1, -1,  0, -1,  0, -1]])"
      ]
     },
     "execution_count": 27,
     "metadata": {},
     "output_type": "execute_result"
    }
   ],
   "source": [
    "t=144\n",
    "Matrx=np.arange(1,t+1)\n",
    "print(Matrx)\n",
    "for i in range(1,t+1):\n",
    "    if i==1:\n",
    "        Matrx[i-1]=0\n",
    "    if i==2:\n",
    "        Matrx[i-1]=-1\n",
    "    elif prime_check(i)==1:\n",
    "        Matrx[i-1]=1\n",
    "    elif i%2 ==0 :\n",
    "        Matrx[i-1]=-1\n",
    "    else:\n",
    "        Matrx[i-1]=0\n",
    "Matrx.reshape([12,12])"
   ]
  }
 ],
 "metadata": {
  "kernelspec": {
   "display_name": "Python 3",
   "language": "python",
   "name": "python3"
  },
  "language_info": {
   "codemirror_mode": {
    "name": "ipython",
    "version": 3
   },
   "file_extension": ".py",
   "mimetype": "text/x-python",
   "name": "python",
   "nbconvert_exporter": "python",
   "pygments_lexer": "ipython3",
   "version": "3.8.3"
  }
 },
 "nbformat": 4,
 "nbformat_minor": 4
}
