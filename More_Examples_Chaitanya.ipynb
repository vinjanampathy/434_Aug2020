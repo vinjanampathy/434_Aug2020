{
 "cells": [
  {
   "cell_type": "markdown",
   "metadata": {},
   "source": [
    "# 1. Fibonacci series\n",
    "# 2. Even/Odd check\n",
    "# 3. define a simple function, like ax^2+bx+c for some a,b,c\n",
    "# 4. Program that squares every element of a list x. Compare against numpy \n",
    "# 5. Load a D^2-dimensional vector where all the prime numbered indices are +1 and everything else is zero. Convert to D by D matrix and visualize"
   ]
  },
  {
   "cell_type": "markdown",
   "metadata": {},
   "source": [
    "## Fibonacci Series\n",
    "\n",
    "In mathematics, the Fibonacci numbers, commonly denoted $F_n$, form a sequence, called the Fibonacci sequence, such that each number is the sum of the two preceding ones, starting from 0 and 1. That is,\n",
    "\n",
    "${F_{0}=0, F_{1}=1,}$\n",
    "and\n",
    "\n",
    "${F_{n}=F_{n-1}+F_{n-2},}$\n",
    "for n > 1.\n",
    "\n",
    "Solve using both iterative and recursive methods\n",
    "\n",
    "resources for memoization part: \n",
    "1. [memoization article](https://towardsdatascience.com/memoization-in-python-57c0a738179a)"
   ]
  },
  {
   "cell_type": "code",
   "execution_count": 24,
   "metadata": {},
   "outputs": [],
   "source": [
    "def fib_iterative(n):\n",
    "    fib_series = [0,1]\n",
    "    for itr in range(2,n+1):\n",
    "        fib_series.append(fib_series[itr-1]+fib_series[itr-2])\n",
    "    \n",
    "    return fib_series[n]\n",
    "\n",
    "fib_iterative(10)\n",
    "\n",
    "def fib_recursive(n):\n",
    "    if(n==0): \n",
    "        return 0\n",
    "    elif(n==1): \n",
    "        return 1\n",
    "    else:\n",
    "        return fib_recursive(n-1) + fib_recursive(n-2)\n",
    "\n",
    "\n",
    "mem_fib = np.zeros(10000)\n",
    "mem_fib[1] = 1\n",
    "    \n",
    "def fib_recursive_memoize(n):\n",
    "    if(n==0): \n",
    "        return 0\n",
    "    elif(n==1): \n",
    "        return 1\n",
    "    else:\n",
    "        if(mem_fib[n]!= 0):\n",
    "            return mem_fib[n]\n",
    "        else:\n",
    "            mem_fib[n] = fib_recursive_memoize(n-1) + fib_recursive_memoize(n-2)\n",
    "            return mem_fib[n]\n",
    "    \n",
    "'''\n",
    "Storing the values in the cache memory\n",
    "Please remove this if it is too much information\n",
    "'''\n",
    "from functools import lru_cache\n",
    "\n",
    "@lru_cache(maxsize = 1000)\n",
    "def fib_recursive_with_memoization(n):\n",
    "    if n == 0:\n",
    "        return 0\n",
    "    elif n == 1:\n",
    "        return 1\n",
    "    elif n >= 2:\n",
    "        return fib_recursive_with_memoization(n -1) + fib_recursive_with_memoization(n -2)\n",
    "\n",
    "    "
   ]
  },
  {
   "cell_type": "code",
   "execution_count": 25,
   "metadata": {},
   "outputs": [
    {
     "data": {
      "text/plain": [
       "0"
      ]
     },
     "execution_count": 25,
     "metadata": {},
     "output_type": "execute_result"
    }
   ],
   "source": [
    "fib_recursive(0)\n"
   ]
  },
  {
   "cell_type": "markdown",
   "metadata": {},
   "source": [
    "## Even/Odd check\n",
    "\n",
    "Check if a particular number is even or odd and print the result as {num} is odd/even."
   ]
  },
  {
   "cell_type": "code",
   "execution_count": 26,
   "metadata": {},
   "outputs": [
    {
     "name": "stdout",
     "output_type": "stream",
     "text": [
      "134567 is odd\n",
      "12345678 is even\n"
     ]
    }
   ],
   "source": [
    "def even_odd_check(n):\n",
    "    if(n%2 == 0):\n",
    "        print(\"{0} is even\".format(n))\n",
    "        return\n",
    "    else:\n",
    "        print(\"{0} is odd\".format(n))\n",
    "        return\n",
    "\n",
    "even_odd_check(134567)\n",
    "even_odd_check(12345678)"
   ]
  },
  {
   "cell_type": "markdown",
   "metadata": {},
   "source": [
    "## Parabola Visualization\n",
    "\n",
    "Define a function with takes in parameters as a,b,c and plots the curve $y(x) = a x^2 + b x + c $ and also the parabola shifted  so that you can see the minimum at the origin\n",
    "\n",
    "Resources for plotting: \n",
    "    1.[matplotlib on geeksforgeeks](https://www.geeksforgeeks.org/pyplot-in-matplotlib/)\n",
    "    2.[matplotlib documentation](https://matplotlib.org/3.3.1/tutorials/index.html)\n"
   ]
  },
  {
   "cell_type": "code",
   "execution_count": 27,
   "metadata": {},
   "outputs": [
    {
     "data": {
      "image/png": "[encoded data removed]",
      "text/plain": [
       "<Figure size 432x288 with 1 Axes>"
      ]
     },
     "metadata": {
      "needs_background": "light"
     },
     "output_type": "display_data"
    }
   ],
   "source": [
    "import matplotlib.pyplot as plt\n",
    "import numpy as np\n",
    "\n",
    "def parabola(a, b, c, x):\n",
    "    return a*x**2 + b*x + c\n",
    "\n",
    "def plot(a,b,c):\n",
    "    x_val = np.arange(-10-b/(2*a), 10-b/(2*a), 0.01)\n",
    "    y_val = [parabola(a,b,c,x) for x in x_val]\n",
    "    y_val_displaced = [parabola(a,b,c,x-b/(2*a)) for x in x_val]\n",
    "    \n",
    "    plt.xlabel('X value with step size of 0.01')\n",
    "    plt.ylabel(r' $y(x) = a x^2 + b x + c $')\n",
    "    plt.plot(x_val, y_val, color='green',label = \"actual parabola\", marker='o', linestyle='dashed', linewidth=2, markersize=2)\n",
    "    plt.plot(x_val, y_val_displaced, color='orange',  label = \"parabola with minimum shifted to x = 0\", marker='o', linestyle='dotted', linewidth=2, markersize=2)\n",
    "    plt.title(\"Parabola Visualization\")\n",
    "    plt.legend()\n",
    "    plt.show()\n",
    "\n",
    "plot(1,10,1)"
   ]
  },
  {
   "cell_type": "markdown",
   "metadata": {},
   "source": [
    "## Compare list vs numpy\n",
    "\n",
    "Write a program that squares every element of a list x without and with using numpy. Compare both."
   ]
  },
  {
   "cell_type": "code",
   "execution_count": 1,
   "metadata": {},
   "outputs": [
    {
     "name": "stdout",
     "output_type": "stream",
     "text": [
      "442 µs ± 4.01 µs per loop (mean ± std. dev. of 7 runs, 1000 loops each)\n",
      "2.44 µs ± 67.8 ns per loop (mean ± std. dev. of 7 runs, 100000 loops each)\n"
     ]
    }
   ],
   "source": [
    "import numpy as np\n",
    "\n",
    "def square_elem(x_val):\n",
    "    res = []\n",
    "    for i in x_val:\n",
    "        res.append(i**2)\n",
    "        \n",
    "    return res\n",
    "\n",
    "def square_elem_numpy(x_val):\n",
    "    res = np.array(x_val)\n",
    "    \n",
    "    return np.square(res)\n",
    "\n",
    "def compare(x_val):\n",
    "    %timeit square_elem(x_val)\n",
    "    %timeit square_elem_numpy(x_val)\n",
    "\n",
    "x_val = np.random.randint(0,100, 1000)\n",
    "compare(x_val)\n",
    "\n",
    "    "
   ]
  },
  {
   "cell_type": "markdown",
   "metadata": {},
   "source": [
    "## Prime number and matrices\n",
    "\n",
    "Create a $D^2$-dimensional vector where all the prime numbered indices are +1 and everything else is zero. Convert to D by D matrix and visualize."
   ]
  },
  {
   "cell_type": "code",
   "execution_count": 2,
   "metadata": {},
   "outputs": [
    {
     "name": "stdout",
     "output_type": "stream",
     "text": [
      "[2, 3, 5, 7, 11, 13, 17, 19, 23, 29, 31, 37, 41, 43, 47, 53, 59, 61, 67, 71, 73, 79, 83, 89, 97]\n",
      "[ 2  3  5  7 11 13 17 19 23 29 31 37 41 43 47 53 59 61 67 71 73 79 83 89\n",
      " 97]\n",
      "[[0. 0. 1. 1. 0. 1. 0. 1. 0. 0.]\n",
      " [0. 1. 0. 1. 0. 0. 0. 1. 0. 1.]\n",
      " [0. 0. 0. 1. 0. 0. 0. 0. 0. 1.]\n",
      " [0. 1. 0. 0. 0. 0. 0. 1. 0. 0.]\n",
      " [0. 1. 0. 1. 0. 0. 0. 1. 0. 0.]\n",
      " [0. 0. 0. 1. 0. 0. 0. 0. 0. 1.]\n",
      " [0. 1. 0. 0. 0. 0. 0. 1. 0. 0.]\n",
      " [0. 1. 0. 1. 0. 0. 0. 0. 0. 1.]\n",
      " [0. 0. 0. 1. 0. 0. 0. 0. 0. 1.]\n",
      " [0. 0. 0. 0. 0. 0. 0. 1. 0. 0.]]\n",
      "447 ms ± 9.76 ms per loop (mean ± std. dev. of 7 runs, 1 loop each)\n",
      "157 ms ± 30.1 ms per loop (mean ± std. dev. of 7 runs, 10 loops each)\n"
     ]
    }
   ],
   "source": [
    "def prime_generator(n):\n",
    "    primes = [2]\n",
    "    for curr_val in range(3,n+1):\n",
    "        prime_found = 1\n",
    "        for check_val in range(2,curr_val):\n",
    "            if(curr_val%check_val == 0):\n",
    "                prime_found = 0\n",
    "                break\n",
    "        if(prime_found):\n",
    "            primes.append(curr_val)\n",
    "    return primes\n",
    "        \n",
    "        \n",
    "print(prime_generator(100))\n",
    "\n",
    "'''\n",
    "efficient way of finding primes iterating only till required values\n",
    "'''\n",
    "def prime_gen(n):\n",
    "    primes = [2]\n",
    "    curr_val = primes[-1] #curr_val set to last found prime\n",
    "    while(curr_val< n): #check that curr_val is less than required value n\n",
    "        curr_val +=1\n",
    "        itr = 0\n",
    "        while(itr < len(primes)): #iterate through the primes found till now\n",
    "            if(curr_val%primes[itr] == 0): #if found that number is divisible by a prime in the list reset the iterator to first prime and increase the curr_val by 1\n",
    "                curr_val +=1\n",
    "                itr = 0\n",
    "            else:\n",
    "                itr +=1\n",
    "        if(curr_val < n):\n",
    "            primes.append(curr_val)    \n",
    "    return primes\n",
    "\n",
    "print(np.array(prime_gen(100)).flatten())\n",
    "\n",
    "def prime_ind_vector(d):\n",
    "    vect = np.zeros(d**2)\n",
    "    primes = prime_gen(d**2)\n",
    "    \n",
    "    for i in primes:\n",
    "        vect[i] = 1\n",
    "    \n",
    "    return vect.reshape(d,d)\n",
    "\n",
    "print(prime_ind_vector(10))\n",
    "\n",
    "\n",
    "'''\n",
    "Comparison between both prime generators\n",
    "'''\n",
    "def compare(n):\n",
    "    %timeit prime_generator(n)\n",
    "    %timeit prime_gen(n)\n",
    "\n",
    "compare(10000)\n",
    "        \n",
    "            \n",
    "        \n",
    "            "
   ]
  },
  {
   "cell_type": "code",
   "execution_count": null,
   "metadata": {},
   "outputs": [],
   "source": []
  }
 ],
 "metadata": {
  "kernelspec": {
   "display_name": "Python 3",
   "language": "python",
   "name": "python3"
  },
  "language_info": {
   "codemirror_mode": {
    "name": "ipython",
    "version": 3
   },
   "file_extension": ".py",
   "mimetype": "text/x-python",
   "name": "python",
   "nbconvert_exporter": "python",
   "pygments_lexer": "ipython3",
   "version": "3.8.3"
  }
 },
 "nbformat": 4,
 "nbformat_minor": 2
}
